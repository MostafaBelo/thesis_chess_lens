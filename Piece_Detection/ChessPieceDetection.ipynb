{
  "cells": [
    {
      "cell_type": "code",
      "execution_count": 1,
      "metadata": {
        "colab": {
          "base_uri": "https://localhost:8080/"
        },
        "id": "7wTk6hgIDVUZ",
        "outputId": "dd604caf-abbf-423f-9974-8997675e484c"
      },
      "outputs": [
        {
          "name": "stdout",
          "output_type": "stream",
          "text": [
            "Collecting ultralytics\n",
            "  Downloading ultralytics-8.3.135-py3-none-any.whl.metadata (37 kB)\n",
            "Requirement already satisfied: numpy>=1.23.0 in /usr/local/lib/python3.11/dist-packages (from ultralytics) (2.0.2)\n",
            "Requirement already satisfied: matplotlib>=3.3.0 in /usr/local/lib/python3.11/dist-packages (from ultralytics) (3.10.0)\n",
            "Requirement already satisfied: opencv-python>=4.6.0 in /usr/local/lib/python3.11/dist-packages (from ultralytics) (4.11.0.86)\n",
            "Requirement already satisfied: pillow>=7.1.2 in /usr/local/lib/python3.11/dist-packages (from ultralytics) (11.2.1)\n",
            "Requirement already satisfied: pyyaml>=5.3.1 in /usr/local/lib/python3.11/dist-packages (from ultralytics) (6.0.2)\n",
            "Requirement already satisfied: requests>=2.23.0 in /usr/local/lib/python3.11/dist-packages (from ultralytics) (2.32.3)\n",
            "Requirement already satisfied: scipy>=1.4.1 in /usr/local/lib/python3.11/dist-packages (from ultralytics) (1.15.3)\n",
            "Requirement already satisfied: torch>=1.8.0 in /usr/local/lib/python3.11/dist-packages (from ultralytics) (2.6.0+cu124)\n",
            "Requirement already satisfied: torchvision>=0.9.0 in /usr/local/lib/python3.11/dist-packages (from ultralytics) (0.21.0+cu124)\n",
            "Requirement already satisfied: tqdm>=4.64.0 in /usr/local/lib/python3.11/dist-packages (from ultralytics) (4.67.1)\n",
            "Requirement already satisfied: psutil in /usr/local/lib/python3.11/dist-packages (from ultralytics) (5.9.5)\n",
            "Requirement already satisfied: py-cpuinfo in /usr/local/lib/python3.11/dist-packages (from ultralytics) (9.0.0)\n",
            "Requirement already satisfied: pandas>=1.1.4 in /usr/local/lib/python3.11/dist-packages (from ultralytics) (2.2.2)\n",
            "Requirement already satisfied: seaborn>=0.11.0 in /usr/local/lib/python3.11/dist-packages (from ultralytics) (0.13.2)\n",
            "Collecting ultralytics-thop>=2.0.0 (from ultralytics)\n",
            "  Downloading ultralytics_thop-2.0.14-py3-none-any.whl.metadata (9.4 kB)\n",
            "Requirement already satisfied: contourpy>=1.0.1 in /usr/local/lib/python3.11/dist-packages (from matplotlib>=3.3.0->ultralytics) (1.3.2)\n",
            "Requirement already satisfied: cycler>=0.10 in /usr/local/lib/python3.11/dist-packages (from matplotlib>=3.3.0->ultralytics) (0.12.1)\n",
            "Requirement already satisfied: fonttools>=4.22.0 in /usr/local/lib/python3.11/dist-packages (from matplotlib>=3.3.0->ultralytics) (4.58.0)\n",
            "Requirement already satisfied: kiwisolver>=1.3.1 in /usr/local/lib/python3.11/dist-packages (from matplotlib>=3.3.0->ultralytics) (1.4.8)\n",
            "Requirement already satisfied: packaging>=20.0 in /usr/local/lib/python3.11/dist-packages (from matplotlib>=3.3.0->ultralytics) (24.2)\n",
            "Requirement already satisfied: pyparsing>=2.3.1 in /usr/local/lib/python3.11/dist-packages (from matplotlib>=3.3.0->ultralytics) (3.2.3)\n",
            "Requirement already satisfied: python-dateutil>=2.7 in /usr/local/lib/python3.11/dist-packages (from matplotlib>=3.3.0->ultralytics) (2.9.0.post0)\n",
            "Requirement already satisfied: pytz>=2020.1 in /usr/local/lib/python3.11/dist-packages (from pandas>=1.1.4->ultralytics) (2025.2)\n",
            "Requirement already satisfied: tzdata>=2022.7 in /usr/local/lib/python3.11/dist-packages (from pandas>=1.1.4->ultralytics) (2025.2)\n",
            "Requirement already satisfied: charset-normalizer<4,>=2 in /usr/local/lib/python3.11/dist-packages (from requests>=2.23.0->ultralytics) (3.4.2)\n",
            "Requirement already satisfied: idna<4,>=2.5 in /usr/local/lib/python3.11/dist-packages (from requests>=2.23.0->ultralytics) (3.10)\n",
            "Requirement already satisfied: urllib3<3,>=1.21.1 in /usr/local/lib/python3.11/dist-packages (from requests>=2.23.0->ultralytics) (2.4.0)\n",
            "Requirement already satisfied: certifi>=2017.4.17 in /usr/local/lib/python3.11/dist-packages (from requests>=2.23.0->ultralytics) (2025.4.26)\n",
            "Requirement already satisfied: filelock in /usr/local/lib/python3.11/dist-packages (from torch>=1.8.0->ultralytics) (3.18.0)\n",
            "Requirement already satisfied: typing-extensions>=4.10.0 in /usr/local/lib/python3.11/dist-packages (from torch>=1.8.0->ultralytics) (4.13.2)\n",
            "Requirement already satisfied: networkx in /usr/local/lib/python3.11/dist-packages (from torch>=1.8.0->ultralytics) (3.4.2)\n",
            "Requirement already satisfied: jinja2 in /usr/local/lib/python3.11/dist-packages (from torch>=1.8.0->ultralytics) (3.1.6)\n",
            "Requirement already satisfied: fsspec in /usr/local/lib/python3.11/dist-packages (from torch>=1.8.0->ultralytics) (2025.3.2)\n",
            "Collecting nvidia-cuda-nvrtc-cu12==12.4.127 (from torch>=1.8.0->ultralytics)\n",
            "  Downloading nvidia_cuda_nvrtc_cu12-12.4.127-py3-none-manylinux2014_x86_64.whl.metadata (1.5 kB)\n",
            "Collecting nvidia-cuda-runtime-cu12==12.4.127 (from torch>=1.8.0->ultralytics)\n",
            "  Downloading nvidia_cuda_runtime_cu12-12.4.127-py3-none-manylinux2014_x86_64.whl.metadata (1.5 kB)\n",
            "Collecting nvidia-cuda-cupti-cu12==12.4.127 (from torch>=1.8.0->ultralytics)\n",
            "  Downloading nvidia_cuda_cupti_cu12-12.4.127-py3-none-manylinux2014_x86_64.whl.metadata (1.6 kB)\n",
            "Collecting nvidia-cudnn-cu12==9.1.0.70 (from torch>=1.8.0->ultralytics)\n",
            "  Downloading nvidia_cudnn_cu12-9.1.0.70-py3-none-manylinux2014_x86_64.whl.metadata (1.6 kB)\n",
            "Collecting nvidia-cublas-cu12==12.4.5.8 (from torch>=1.8.0->ultralytics)\n",
            "  Downloading nvidia_cublas_cu12-12.4.5.8-py3-none-manylinux2014_x86_64.whl.metadata (1.5 kB)\n",
            "Collecting nvidia-cufft-cu12==11.2.1.3 (from torch>=1.8.0->ultralytics)\n",
            "  Downloading nvidia_cufft_cu12-11.2.1.3-py3-none-manylinux2014_x86_64.whl.metadata (1.5 kB)\n",
            "Collecting nvidia-curand-cu12==10.3.5.147 (from torch>=1.8.0->ultralytics)\n",
            "  Downloading nvidia_curand_cu12-10.3.5.147-py3-none-manylinux2014_x86_64.whl.metadata (1.5 kB)\n",
            "Collecting nvidia-cusolver-cu12==11.6.1.9 (from torch>=1.8.0->ultralytics)\n",
            "  Downloading nvidia_cusolver_cu12-11.6.1.9-py3-none-manylinux2014_x86_64.whl.metadata (1.6 kB)\n",
            "Collecting nvidia-cusparse-cu12==12.3.1.170 (from torch>=1.8.0->ultralytics)\n",
            "  Downloading nvidia_cusparse_cu12-12.3.1.170-py3-none-manylinux2014_x86_64.whl.metadata (1.6 kB)\n",
            "Requirement already satisfied: nvidia-cusparselt-cu12==0.6.2 in /usr/local/lib/python3.11/dist-packages (from torch>=1.8.0->ultralytics) (0.6.2)\n",
            "Requirement already satisfied: nvidia-nccl-cu12==2.21.5 in /usr/local/lib/python3.11/dist-packages (from torch>=1.8.0->ultralytics) (2.21.5)\n",
            "Requirement already satisfied: nvidia-nvtx-cu12==12.4.127 in /usr/local/lib/python3.11/dist-packages (from torch>=1.8.0->ultralytics) (12.4.127)\n",
            "Collecting nvidia-nvjitlink-cu12==12.4.127 (from torch>=1.8.0->ultralytics)\n",
            "  Downloading nvidia_nvjitlink_cu12-12.4.127-py3-none-manylinux2014_x86_64.whl.metadata (1.5 kB)\n",
            "Requirement already satisfied: triton==3.2.0 in /usr/local/lib/python3.11/dist-packages (from torch>=1.8.0->ultralytics) (3.2.0)\n",
            "Requirement already satisfied: sympy==1.13.1 in /usr/local/lib/python3.11/dist-packages (from torch>=1.8.0->ultralytics) (1.13.1)\n",
            "Requirement already satisfied: mpmath<1.4,>=1.1.0 in /usr/local/lib/python3.11/dist-packages (from sympy==1.13.1->torch>=1.8.0->ultralytics) (1.3.0)\n",
            "Requirement already satisfied: six>=1.5 in /usr/local/lib/python3.11/dist-packages (from python-dateutil>=2.7->matplotlib>=3.3.0->ultralytics) (1.17.0)\n",
            "Requirement already satisfied: MarkupSafe>=2.0 in /usr/local/lib/python3.11/dist-packages (from jinja2->torch>=1.8.0->ultralytics) (3.0.2)\n",
            "Downloading ultralytics-8.3.135-py3-none-any.whl (1.0 MB)\n",
            "\u001b[2K   \u001b[90m━━━━━━━━━━━━━━━━━━━━━━━━━━━━━━━━━━━━━━━━\u001b[0m \u001b[32m1.0/1.0 MB\u001b[0m \u001b[31m41.4 MB/s\u001b[0m eta \u001b[36m0:00:00\u001b[0m\n",
            "\u001b[?25hDownloading nvidia_cublas_cu12-12.4.5.8-py3-none-manylinux2014_x86_64.whl (363.4 MB)\n",
            "\u001b[2K   \u001b[90m━━━━━━━━━━━━━━━━━━━━━━━━━━━━━━━━━━━━━━━━\u001b[0m \u001b[32m363.4/363.4 MB\u001b[0m \u001b[31m4.0 MB/s\u001b[0m eta \u001b[36m0:00:00\u001b[0m\n",
            "\u001b[?25hDownloading nvidia_cuda_cupti_cu12-12.4.127-py3-none-manylinux2014_x86_64.whl (13.8 MB)\n",
            "\u001b[2K   \u001b[90m━━━━━━━━━━━━━━━━━━━━━━━━━━━━━━━━━━━━━━━━\u001b[0m \u001b[32m13.8/13.8 MB\u001b[0m \u001b[31m117.4 MB/s\u001b[0m eta \u001b[36m0:00:00\u001b[0m\n",
            "\u001b[?25hDownloading nvidia_cuda_nvrtc_cu12-12.4.127-py3-none-manylinux2014_x86_64.whl (24.6 MB)\n",
            "\u001b[2K   \u001b[90m━━━━━━━━━━━━━━━━━━━━━━━━━━━━━━━━━━━━━━━━\u001b[0m \u001b[32m24.6/24.6 MB\u001b[0m \u001b[31m90.7 MB/s\u001b[0m eta \u001b[36m0:00:00\u001b[0m\n",
            "\u001b[?25hDownloading nvidia_cuda_runtime_cu12-12.4.127-py3-none-manylinux2014_x86_64.whl (883 kB)\n",
            "\u001b[2K   \u001b[90m━━━━━━━━━━━━━━━━━━━━━━━━━━━━━━━━━━━━━━━━\u001b[0m \u001b[32m883.7/883.7 kB\u001b[0m \u001b[31m59.3 MB/s\u001b[0m eta \u001b[36m0:00:00\u001b[0m\n",
            "\u001b[?25hDownloading nvidia_cudnn_cu12-9.1.0.70-py3-none-manylinux2014_x86_64.whl (664.8 MB)\n",
            "\u001b[2K   \u001b[90m━━━━━━━━━━━━━━━━━━━━━━━━━━━━━━━━━━━━━━━━\u001b[0m \u001b[32m664.8/664.8 MB\u001b[0m \u001b[31m2.1 MB/s\u001b[0m eta \u001b[36m0:00:00\u001b[0m\n",
            "\u001b[?25hDownloading nvidia_cufft_cu12-11.2.1.3-py3-none-manylinux2014_x86_64.whl (211.5 MB)\n",
            "\u001b[2K   \u001b[90m━━━━━━━━━━━━━━━━━━━━━━━━━━━━━━━━━━━━━━━━\u001b[0m \u001b[32m211.5/211.5 MB\u001b[0m \u001b[31m6.4 MB/s\u001b[0m eta \u001b[36m0:00:00\u001b[0m\n",
            "\u001b[?25hDownloading nvidia_curand_cu12-10.3.5.147-py3-none-manylinux2014_x86_64.whl (56.3 MB)\n",
            "\u001b[2K   \u001b[90m━━━━━━━━━━━━━━━━━━━━━━━━━━━━━━━━━━━━━━━━\u001b[0m \u001b[32m56.3/56.3 MB\u001b[0m \u001b[31m16.8 MB/s\u001b[0m eta \u001b[36m0:00:00\u001b[0m\n",
            "\u001b[?25hDownloading nvidia_cusolver_cu12-11.6.1.9-py3-none-manylinux2014_x86_64.whl (127.9 MB)\n",
            "\u001b[2K   \u001b[90m━━━━━━━━━━━━━━━━━━━━━━━━━━━━━━━━━━━━━━━━\u001b[0m \u001b[32m127.9/127.9 MB\u001b[0m \u001b[31m7.0 MB/s\u001b[0m eta \u001b[36m0:00:00\u001b[0m\n",
            "\u001b[?25hDownloading nvidia_cusparse_cu12-12.3.1.170-py3-none-manylinux2014_x86_64.whl (207.5 MB)\n",
            "\u001b[2K   \u001b[90m━━━━━━━━━━━━━━━━━━━━━━━━━━━━━━━━━━━━━━━━\u001b[0m \u001b[32m207.5/207.5 MB\u001b[0m \u001b[31m6.7 MB/s\u001b[0m eta \u001b[36m0:00:00\u001b[0m\n",
            "\u001b[?25hDownloading nvidia_nvjitlink_cu12-12.4.127-py3-none-manylinux2014_x86_64.whl (21.1 MB)\n",
            "\u001b[2K   \u001b[90m━━━━━━━━━━━━━━━━━━━━━━━━━━━━━━━━━━━━━━━━\u001b[0m \u001b[32m21.1/21.1 MB\u001b[0m \u001b[31m103.2 MB/s\u001b[0m eta \u001b[36m0:00:00\u001b[0m\n",
            "\u001b[?25hDownloading ultralytics_thop-2.0.14-py3-none-any.whl (26 kB)\n",
            "Installing collected packages: nvidia-nvjitlink-cu12, nvidia-curand-cu12, nvidia-cufft-cu12, nvidia-cuda-runtime-cu12, nvidia-cuda-nvrtc-cu12, nvidia-cuda-cupti-cu12, nvidia-cublas-cu12, nvidia-cusparse-cu12, nvidia-cudnn-cu12, nvidia-cusolver-cu12, ultralytics-thop, ultralytics\n",
            "  Attempting uninstall: nvidia-nvjitlink-cu12\n",
            "    Found existing installation: nvidia-nvjitlink-cu12 12.5.82\n",
            "    Uninstalling nvidia-nvjitlink-cu12-12.5.82:\n",
            "      Successfully uninstalled nvidia-nvjitlink-cu12-12.5.82\n",
            "  Attempting uninstall: nvidia-curand-cu12\n",
            "    Found existing installation: nvidia-curand-cu12 10.3.6.82\n",
            "    Uninstalling nvidia-curand-cu12-10.3.6.82:\n",
            "      Successfully uninstalled nvidia-curand-cu12-10.3.6.82\n",
            "  Attempting uninstall: nvidia-cufft-cu12\n",
            "    Found existing installation: nvidia-cufft-cu12 11.2.3.61\n",
            "    Uninstalling nvidia-cufft-cu12-11.2.3.61:\n",
            "      Successfully uninstalled nvidia-cufft-cu12-11.2.3.61\n",
            "  Attempting uninstall: nvidia-cuda-runtime-cu12\n",
            "    Found existing installation: nvidia-cuda-runtime-cu12 12.5.82\n",
            "    Uninstalling nvidia-cuda-runtime-cu12-12.5.82:\n",
            "      Successfully uninstalled nvidia-cuda-runtime-cu12-12.5.82\n",
            "  Attempting uninstall: nvidia-cuda-nvrtc-cu12\n",
            "    Found existing installation: nvidia-cuda-nvrtc-cu12 12.5.82\n",
            "    Uninstalling nvidia-cuda-nvrtc-cu12-12.5.82:\n",
            "      Successfully uninstalled nvidia-cuda-nvrtc-cu12-12.5.82\n",
            "  Attempting uninstall: nvidia-cuda-cupti-cu12\n",
            "    Found existing installation: nvidia-cuda-cupti-cu12 12.5.82\n",
            "    Uninstalling nvidia-cuda-cupti-cu12-12.5.82:\n",
            "      Successfully uninstalled nvidia-cuda-cupti-cu12-12.5.82\n",
            "  Attempting uninstall: nvidia-cublas-cu12\n",
            "    Found existing installation: nvidia-cublas-cu12 12.5.3.2\n",
            "    Uninstalling nvidia-cublas-cu12-12.5.3.2:\n",
            "      Successfully uninstalled nvidia-cublas-cu12-12.5.3.2\n",
            "  Attempting uninstall: nvidia-cusparse-cu12\n",
            "    Found existing installation: nvidia-cusparse-cu12 12.5.1.3\n",
            "    Uninstalling nvidia-cusparse-cu12-12.5.1.3:\n",
            "      Successfully uninstalled nvidia-cusparse-cu12-12.5.1.3\n",
            "  Attempting uninstall: nvidia-cudnn-cu12\n",
            "    Found existing installation: nvidia-cudnn-cu12 9.3.0.75\n",
            "    Uninstalling nvidia-cudnn-cu12-9.3.0.75:\n",
            "      Successfully uninstalled nvidia-cudnn-cu12-9.3.0.75\n",
            "  Attempting uninstall: nvidia-cusolver-cu12\n",
            "    Found existing installation: nvidia-cusolver-cu12 11.6.3.83\n",
            "    Uninstalling nvidia-cusolver-cu12-11.6.3.83:\n",
            "      Successfully uninstalled nvidia-cusolver-cu12-11.6.3.83\n",
            "Successfully installed nvidia-cublas-cu12-12.4.5.8 nvidia-cuda-cupti-cu12-12.4.127 nvidia-cuda-nvrtc-cu12-12.4.127 nvidia-cuda-runtime-cu12-12.4.127 nvidia-cudnn-cu12-9.1.0.70 nvidia-cufft-cu12-11.2.1.3 nvidia-curand-cu12-10.3.5.147 nvidia-cusolver-cu12-11.6.1.9 nvidia-cusparse-cu12-12.3.1.170 nvidia-nvjitlink-cu12-12.4.127 ultralytics-8.3.135 ultralytics-thop-2.0.14\n"
          ]
        }
      ],
      "source": [
        "!pip install ultralytics"
      ]
    },
    {
      "cell_type": "code",
      "execution_count": null,
      "metadata": {
        "id": "rvolSn44DcCS"
      },
      "outputs": [],
      "source": [
        "!nvidia-smi"
      ]
    },
    {
      "cell_type": "code",
      "execution_count": 1,
      "metadata": {
        "colab": {
          "base_uri": "https://localhost:8080/"
        },
        "id": "tEmw6cHyEwZE",
        "outputId": "351053f1-f0b1-4efb-8a13-65957b949988"
      },
      "outputs": [],
      "source": [
        "from ultralytics import YOLO"
      ]
    },
    {
      "cell_type": "code",
      "execution_count": null,
      "metadata": {
        "id": "dnr2ncDEExRQ"
      },
      "outputs": [],
      "source": [
        "model = YOLO(\"yolo11s.pt\")"
      ]
    },
    {
      "cell_type": "code",
      "execution_count": null,
      "metadata": {
        "id": "ys-FJ-V1E_5p"
      },
      "outputs": [],
      "source": [
        "#old manual dataset\n",
        "results = model.train(data=\"/content/drive/MyDrive/ChessPieceDetectionYOLO/data.yaml\",epochs=50)"
      ]
    },
    {
      "cell_type": "code",
      "execution_count": null,
      "metadata": {
        "id": "HmZ8BdGlbA49"
      },
      "outputs": [],
      "source": [
        "#combi\n",
        "results = model.train(data=\"/content/drive/MyDrive/combi_chess.v1i.yolov11/data.yaml\",epochs=10)"
      ]
    },
    {
      "cell_type": "code",
      "execution_count": 4,
      "metadata": {
        "colab": {
          "base_uri": "https://localhost:8080/",
          "height": 1000
        },
        "id": "eVfoShOMe-5E",
        "outputId": "97c8e5ae-8843-4fe8-d3f4-4c77449a15a2"
      },
      "outputs": [
        {
          "name": "stdout",
          "output_type": "stream",
          "text": [
            "\n",
            "image 1/1 /mnt/D/University/Thesis/Piece_Detection/../data/image_0.jpg: 640x640 2 black-bishops, 1 black-king, 3 black-knights, 8 black-pawns, 1 black-queen, 2 black-rooks, 2 white-bishops, 1 white-king, 1 white-knight, 7 white-pawns, 1 white-queen, 3 white-rooks, 121.8ms\n",
            "Speed: 10.1ms preprocess, 121.8ms inference, 198.2ms postprocess per image at shape (1, 3, 640, 640)\n"
          ]
        },
        {
          "name": "stderr",
          "output_type": "stream",
          "text": [
            "[8252:8252:0518/171725.577553:ERROR:components/policy/core/common/cloud/cloud_policy_validator.cc:616] New signature verification failed\n",
            "[8252:8252:0518/171725.808947:ERROR:chrome/browser/ui/views/frame/browser_view.cc:5932] Attempting to show IPH IPH_TabSearchToolbarButton before browser initialization; IPH will not be shown.\n",
            "Created TensorFlow Lite XNNPACK delegate for CPU.\n",
            "Attempting to use a delegate that only supports static-sized tensors with a graph that has dynamic-sized tensors (tensor#-1 is a dynamic-sized tensor).\n",
            "[8252:8283:0518/171730.188358:ERROR:google_apis/gcm/engine/registration_request.cc:291] Registration response error message: DEPRECATED_ENDPOINT\n",
            "[8252:8283:0518/171730.189720:ERROR:google_apis/gcm/engine/registration_request.cc:291] Registration response error message: DEPRECATED_ENDPOINT\n",
            "[8252:8278:0518/171751.091206:ERROR:components/sync/engine/get_updates_processor.cc:267] PostClientToServerMessage() failed during GetUpdates with error Network error (ERR_ABORTED)\n"
          ]
        }
      ],
      "source": [
        "modelweight6 = \"best6(11x).pt\"\n",
        "modelweight5 = \"/content/best5(v8).pt\"\n",
        "modelweight4 = \"/content/best4.pt\"\n",
        "modelweight3 = \"/content/best3.pt\"\n",
        "\n",
        "\n",
        "# model3=YOLO(modelweight3)\n",
        "# model4=YOLO(modelweight4)\n",
        "# model5=YOLO(modelweight5)\n",
        "model6=YOLO(modelweight6)\n",
        "\n",
        "\n",
        "\n",
        "# imagepath= \"/content/TestImageBoard.png\"\n",
        "imagepath= \"../data/image_0.jpg\"\n",
        "\n",
        "\n",
        "results6 = model6(imagepath)\n",
        "# results5 = model5(imagepath)\n",
        "# results4 = model4(imagepath)\n",
        "# results3 = model3(imagepath)\n",
        "\n",
        "\n",
        "# results3[0].show()\n",
        "# results4[0].show()\n",
        "# results5[0].show()\n",
        "results6[0].show()\n"
      ]
    },
    {
      "cell_type": "code",
      "execution_count": null,
      "metadata": {
        "colab": {
          "base_uri": "https://localhost:8080/",
          "height": 35
        },
        "id": "kwPGtL266Zs7",
        "outputId": "084fff2a-de6d-44d4-c378-8fbf7236efc9"
      },
      "outputs": [
        {
          "data": {
            "application/vnd.google.colaboratory.intrinsic+json": {
              "type": "string"
            },
            "text/plain": [
              "'results_TestImage6.png'"
            ]
          },
          "execution_count": 26,
          "metadata": {},
          "output_type": "execute_result"
        }
      ],
      "source": [
        "results6[0].save()"
      ]
    },
    {
      "cell_type": "code",
      "execution_count": 6,
      "metadata": {
        "colab": {
          "base_uri": "https://localhost:8080/",
          "height": 1000
        },
        "id": "X6RdKrFnfIdf",
        "outputId": "1bbf31ce-8e92-4daf-bff4-0e07623b3804"
      },
      "outputs": [
        {
          "name": "stdout",
          "output_type": "stream",
          "text": [
            "{'class': 'white-bishop', 'x1': 1462.5849609375, 'y1': 1777.068603515625, 'x2': 1598.4166259765625, 'y2': 2004.6322021484375}\n",
            "{'class': 'black-knight', 'x1': 1515.1717529296875, 'y1': 566.8911743164062, 'x2': 1620.242431640625, 'y2': 771.670654296875}\n",
            "{'class': 'black-pawn', 'x1': 1450.88671875, 'y1': 768.83740234375, 'x2': 1543.602783203125, 'y2': 931.88916015625}\n",
            "{'class': 'white-king', 'x1': 1842.3594970703125, 'y1': 1532.528564453125, 'x2': 1994.6617431640625, 'y2': 1825.5108642578125}\n",
            "{'class': 'black-queen', 'x1': 1028.8231201171875, 'y1': 674.9367065429688, 'x2': 1148.7269287109375, 'y2': 952.1979370117188}\n",
            "{'class': 'white-queen', 'x1': 1649.6702880859375, 'y1': 1641.6744384765625, 'x2': 1803.365966796875, 'y2': 1911.0611572265625}\n",
            "{'class': 'black-pawn', 'x1': 947.9296264648438, 'y1': 954.14990234375, 'x2': 1039.5599365234375, 'y2': 1128.7496337890625}\n",
            "{'class': 'white-pawn', 'x1': 2267.725341796875, 'y1': 1258.7176513671875, 'x2': 2388.2802734375, 'y2': 1418.704833984375}\n",
            "{'class': 'black-pawn', 'x1': 776.7220458984375, 'y1': 1022.2971801757812, 'x2': 867.4298095703125, 'y2': 1181.455078125}\n",
            "{'class': 'black-bishop', 'x1': 864.5932006835938, 'y1': 792.2470092773438, 'x2': 975.8827514648438, 'y2': 995.1468505859375}\n",
            "{'class': 'black-pawn', 'x1': 1759.731689453125, 'y1': 657.5374755859375, 'x2': 1849.705078125, 'y2': 819.30615234375}\n",
            "{'class': 'white-pawn', 'x1': 1161.368896484375, 'y1': 1743.1719970703125, 'x2': 1289.2530517578125, 'y2': 1910.4947509765625}\n",
            "{'class': 'black-knight', 'x1': 692.0676879882812, 'y1': 849.09033203125, 'x2': 794.4393310546875, 'y2': 1072.77197265625}\n",
            "{'class': 'black-pawn', 'x1': 1610.2724609375, 'y1': 714.1315307617188, 'x2': 1697.334228515625, 'y2': 883.525390625}\n",
            "{'class': 'white-pawn', 'x1': 1566.2296142578125, 'y1': 1559.2940673828125, 'x2': 1673.1927490234375, 'y2': 1726.7615966796875}\n",
            "{'class': 'white-pawn', 'x1': 1928.774169921875, 'y1': 1406.770263671875, 'x2': 2045.9053955078125, 'y2': 1565.884033203125}\n",
            "{'class': 'white-pawn', 'x1': 1738.75927734375, 'y1': 1482.6533203125, 'x2': 1861.1103515625, 'y2': 1646.7490234375}\n",
            "{'class': 'black-pawn', 'x1': 1131.0205078125, 'y1': 869.0279541015625, 'x2': 1222.785888671875, 'y2': 1058.2252197265625}\n",
            "{'class': 'black-rook', 'x1': 504.4201354980469, 'y1': 931.8641357421875, 'x2': 629.984619140625, 'y2': 1120.59619140625}\n",
            "{'class': 'black-pawn', 'x1': 1298.7059326171875, 'y1': 828.0784301757812, 'x2': 1386.8336181640625, 'y2': 1002.970947265625}\n",
            "{'class': 'white-pawn', 'x1': 2102.118896484375, 'y1': 1319.7862548828125, 'x2': 2226.321044921875, 'y2': 1493.518798828125}\n",
            "{'class': 'black-rook', 'x1': 1671.8665771484375, 'y1': 529.029541015625, 'x2': 1776.646484375, 'y2': 718.66748046875}\n",
            "{'class': 'black-king', 'x1': 1192.201171875, 'y1': 584.8186645507812, 'x2': 1316.0235595703125, 'y2': 886.18359375}\n",
            "{'class': 'white-pawn', 'x1': 1365.63525390625, 'y1': 1650.5037841796875, 'x2': 1478.2047119140625, 'y2': 1822.05615234375}\n",
            "{'class': 'black-knight', 'x1': 1352.7005615234375, 'y1': 615.18310546875, 'x2': 1465.6656494140625, 'y2': 831.4784545898438}\n",
            "{'class': 'white-knight', 'x1': 2230.96533203125, 'y1': 1423.572021484375, 'x2': 2367.96484375, 'y2': 1652.5634765625}\n",
            "{'class': 'white-rook', 'x1': 2390.87060546875, 'y1': 1366.7298583984375, 'x2': 2538.95263671875, 'y2': 1564.9560546875}\n",
            "{'class': 'white-rook', 'x1': 1003.9378662109375, 'y1': 1993.2548828125, 'x2': 1161.4571533203125, 'y2': 2206.730224609375}\n",
            "{'class': 'black-pawn', 'x1': 560.5322875976562, 'y1': 1086.9459228515625, 'x2': 674.640869140625, 'y2': 1256.9385986328125}\n",
            "{'class': 'black-bishop', 'x1': 1352.7581787109375, 'y1': 615.1515502929688, 'x2': 1467.0205078125, 'y2': 833.315673828125}\n",
            "{'class': 'white-bishop', 'x1': 1842.2359619140625, 'y1': 1534.2923583984375, 'x2': 1997.013427734375, 'y2': 1825.44677734375}\n",
            "{'class': 'white-rook', 'x1': 1649.585205078125, 'y1': 1641.9576416015625, 'x2': 1800.10546875, 'y2': 1911.370849609375}\n",
            "{0: 'black-bishop', 1: 'black-king', 2: 'black-knight', 3: 'black-pawn', 4: 'black-queen', 5: 'black-rook', 6: 'white-bishop', 7: 'white-king', 8: 'white-knight', 9: 'white-pawn', 10: 'white-queen', 11: 'white-rook'}\n"
          ]
        }
      ],
      "source": [
        "# results6[0].show()\n",
        "results = results6\n",
        "\n",
        "# Get the boxes and class IDs\n",
        "boxes = results[0].boxes\n",
        "class_ids = boxes.cls.cpu().numpy().astype(int)\n",
        "coords = boxes.xyxy.cpu().numpy()  # (x1, y1, x2, y2) for each detection\n",
        "\n",
        "# Get class names mapping\n",
        "names = results[0].names\n",
        "\n",
        "# Combine class name and coordinates\n",
        "detections = []\n",
        "for cls_id, box in zip(class_ids, coords):\n",
        "    class_name = names[cls_id]\n",
        "    x1, y1, x2, y2 = box\n",
        "    detections.append({\n",
        "        \"class\": class_name,\n",
        "        \"x1\": float(x1),\n",
        "        \"y1\": float(y1),\n",
        "        \"x2\": float(x2),\n",
        "        \"y2\": float(y2)\n",
        "    })\n",
        "\n",
        "# Example: print the detections\n",
        "for det in detections:\n",
        "    print(det)\n",
        "\n",
        "print(names)"
      ]
    },
    {
      "cell_type": "code",
      "execution_count": null,
      "metadata": {
        "colab": {
          "base_uri": "https://localhost:8080/"
        },
        "id": "tPGDuY8170N7",
        "outputId": "afd057ac-e1af-4573-c6c5-662fdff908cb"
      },
      "outputs": [
        {
          "data": {
            "text/plain": [
              "True"
            ]
          },
          "execution_count": 28,
          "metadata": {},
          "output_type": "execute_result"
        }
      ],
      "source": [
        "import cv2\n",
        "\n",
        "gray = cv2.cvtColor(cv2.imread(imagepath), cv2.COLOR_BGR2GRAY)\n",
        "cv2.imwrite(imagepath, gray)"
      ]
    }
  ],
  "metadata": {
    "accelerator": "GPU",
    "colab": {
      "gpuType": "T4",
      "provenance": []
    },
    "kernelspec": {
      "display_name": "Python 3",
      "name": "python3"
    },
    "language_info": {
      "codemirror_mode": {
        "name": "ipython",
        "version": 3
      },
      "file_extension": ".py",
      "mimetype": "text/x-python",
      "name": "python",
      "nbconvert_exporter": "python",
      "pygments_lexer": "ipython3",
      "version": "3.12.3"
    }
  },
  "nbformat": 4,
  "nbformat_minor": 0
}
