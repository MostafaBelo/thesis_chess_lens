{
 "cells": [
  {
   "cell_type": "code",
   "execution_count": 1,
   "metadata": {},
   "outputs": [],
   "source": [
    "import torch\n",
    "import cv2"
   ]
  },
  {
   "cell_type": "code",
   "execution_count": 4,
   "metadata": {},
   "outputs": [],
   "source": [
    "def calcM(src_pts, dst_pts):\n",
    "    M = cv2.getPerspectiveTransform(src_pts.numpy(), dst_pts.numpy())\n",
    "    return torch.tensor(M, dtype=torch.float32)\n",
    "\n",
    "\n",
    "def Mwarp(M, image, newSize):\n",
    "    warppedImg = cv2.warpPerspective(image.numpy(), M, newSize)\n",
    "    return warppedImg\n",
    "\n",
    "\n",
    "def warpPts(src_pts, M):\n",
    "    print(src_pts.shape, M.shape)\n",
    "    tmp_pts = torch.cat([src_pts, torch.ones(src_pts.shape[0], 1)], dim=1)\n",
    "    print(tmp_pts.shape)\n",
    "    dst_pts = (M @ tmp_pts.T).T\n",
    "    print(dst_pts.shape)\n",
    "    dst_pts_norm = dst_pts / dst_pts[:, 2].unsqueeze(1)\n",
    "    print(dst_pts_norm.shape)\n",
    "    return dst_pts_norm[:, :2]"
   ]
  },
  {
   "cell_type": "code",
   "execution_count": 6,
   "metadata": {},
   "outputs": [
    {
     "name": "stdout",
     "output_type": "stream",
     "text": [
      "torch.Size([4, 2]) torch.Size([3, 3])\n",
      "torch.Size([4, 3])\n",
      "torch.Size([4, 3])\n",
      "torch.Size([4, 3])\n"
     ]
    },
    {
     "data": {
      "text/plain": [
       "tensor([[100., 100.],\n",
       "        [500., 100.],\n",
       "        [500., 500.],\n",
       "        [100., 500.]])"
      ]
     },
     "execution_count": 6,
     "metadata": {},
     "output_type": "execute_result"
    }
   ],
   "source": [
    "src_pts = torch.tensor([\n",
    "    [100, 100],\n",
    "    [500, 100],\n",
    "    [500, 500],\n",
    "    [100, 500]\n",
    "], dtype=torch.float32)\n",
    "\n",
    "dst_pts = torch.tensor([\n",
    "    [0,0],\n",
    "    [256,0],\n",
    "    [256,256],\n",
    "    [0,256]\n",
    "], dtype=torch.float32)\n",
    "\n",
    "M = calcM(src_pts, dst_pts)\n",
    "warpPts(dst_pts, M.inverse())"
   ]
  }
 ],
 "metadata": {
  "kernelspec": {
   "display_name": "Python 3",
   "language": "python",
   "name": "python3"
  },
  "language_info": {
   "codemirror_mode": {
    "name": "ipython",
    "version": 3
   },
   "file_extension": ".py",
   "mimetype": "text/x-python",
   "name": "python",
   "nbconvert_exporter": "python",
   "pygments_lexer": "ipython3",
   "version": "3.12.3"
  }
 },
 "nbformat": 4,
 "nbformat_minor": 2
}
