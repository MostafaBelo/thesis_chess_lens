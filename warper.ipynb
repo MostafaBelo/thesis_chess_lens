{
 "cells": [
  {
   "cell_type": "code",
   "execution_count": 1,
   "id": "2debe8c5",
   "metadata": {},
   "outputs": [],
   "source": [
    "import numpy as np\n",
    "from matplotlib import pyplot as plt\n",
    "\n",
    "import cv2\n",
    "import torch"
   ]
  },
  {
   "cell_type": "code",
   "execution_count": null,
   "id": "f2c0b3f0",
   "metadata": {},
   "outputs": [],
   "source": [
    "img_file_path = \"\"\n",
    "\n",
    "img_corners = torch.tensor([\n",
    "    [0, 0], # top-left corner\n",
    "    [0, 0], # top-right corner\n",
    "    [0, 0], # bottom-right corner\n",
    "    [0, 0], # bottom-left corner\n",
    "], dtype=torch.float32)"
   ]
  },
  {
   "cell_type": "code",
   "execution_count": null,
   "id": "02253dcd",
   "metadata": {},
   "outputs": [],
   "source": [
    "img = plt.imread(img_file_path)\n",
    "\n",
    "out_size = (256, 256)\n",
    "out_corners = torch.tensor([\n",
    "    [0,0],\n",
    "    [out_size[0], 0],\n",
    "    [out_size[0], out_size[1]],\n",
    "    [0, out_size[1]],\n",
    "], dtype=torch.float32)"
   ]
  },
  {
   "cell_type": "code",
   "execution_count": null,
   "id": "05023b20",
   "metadata": {},
   "outputs": [],
   "source": [
    "M = cv2.getPerspectiveTransform(\n",
    "    src=img_corners.numpy(),\n",
    "    dst=out_corners.numpy()\n",
    ")\n",
    "\n",
    "warp_img = cv2.warpPerspective(\n",
    "    src=img,\n",
    "    M=M,\n",
    "    dsize=out_size,\n",
    "    dst=img\n",
    ")\n",
    "\n",
    "plt.imshow(warp_img);\n",
    "plt.imsave(\"warped_img.jpg\", warp_img);"
   ]
  }
 ],
 "metadata": {
  "kernelspec": {
   "display_name": "Python 3",
   "language": "python",
   "name": "python3"
  },
  "language_info": {
   "codemirror_mode": {
    "name": "ipython",
    "version": 3
   },
   "file_extension": ".py",
   "mimetype": "text/x-python",
   "name": "python",
   "nbconvert_exporter": "python",
   "pygments_lexer": "ipython3",
   "version": "3.12.3"
  }
 },
 "nbformat": 4,
 "nbformat_minor": 5
}
